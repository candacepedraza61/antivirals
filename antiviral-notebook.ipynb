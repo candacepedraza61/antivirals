{
 "cells": [
  {
   "cell_type": "code",
   "execution_count": 1,
   "id": "d0b5e102",
   "metadata": {},
   "outputs": [],
   "source": [
    "## Pitch 2 work on antiviral dataset"
   ]
  },
  {
   "cell_type": "code",
   "execution_count": 2,
   "id": "aeede60b",
   "metadata": {},
   "outputs": [],
   "source": [
    "import pandas as pd"
   ]
  },
  {
   "cell_type": "code",
   "execution_count": 3,
   "id": "481d3abe",
   "metadata": {},
   "outputs": [],
   "source": [
    "df = pd.read_csv(\"COVID-19_Public_Therapeutic_Locator.csv\")"
   ]
  },
  {
   "cell_type": "code",
   "execution_count": 4,
   "id": "3f98c509",
   "metadata": {},
   "outputs": [
    {
     "data": {
      "text/html": [
       "<div>\n",
       "<style scoped>\n",
       "    .dataframe tbody tr th:only-of-type {\n",
       "        vertical-align: middle;\n",
       "    }\n",
       "\n",
       "    .dataframe tbody tr th {\n",
       "        vertical-align: top;\n",
       "    }\n",
       "\n",
       "    .dataframe thead th {\n",
       "        text-align: right;\n",
       "    }\n",
       "</style>\n",
       "<table border=\"1\" class=\"dataframe\">\n",
       "  <thead>\n",
       "    <tr style=\"text-align: right;\">\n",
       "      <th></th>\n",
       "      <th>Provider Name</th>\n",
       "      <th>Address1</th>\n",
       "      <th>Address2</th>\n",
       "      <th>City</th>\n",
       "      <th>County</th>\n",
       "      <th>State Code</th>\n",
       "      <th>Zip</th>\n",
       "      <th>National Drug Code</th>\n",
       "      <th>Order Label</th>\n",
       "      <th>Courses Available</th>\n",
       "      <th>Geocoded Address</th>\n",
       "      <th>NPI</th>\n",
       "      <th>Last Report Date</th>\n",
       "      <th>Provider Status</th>\n",
       "      <th>Provider Note</th>\n",
       "    </tr>\n",
       "  </thead>\n",
       "  <tbody>\n",
       "    <tr>\n",
       "      <th>20433</th>\n",
       "      <td>CVS Store #16937</td>\n",
       "      <td>2295 N IMPERIAL AVE</td>\n",
       "      <td>CVS Pharmacy</td>\n",
       "      <td>El Centro</td>\n",
       "      <td>Imperial</td>\n",
       "      <td>CA</td>\n",
       "      <td>92243</td>\n",
       "      <td>00006-5055-06</td>\n",
       "      <td>Lagevrio (molnupiravir)</td>\n",
       "      <td>24.0</td>\n",
       "      <td>POINT (-115.56988 32.81846)</td>\n",
       "      <td>1.366465e+09</td>\n",
       "      <td>04/19/2022 12:00:00 AM</td>\n",
       "      <td>ACTIVE</td>\n",
       "      <td>NaN</td>\n",
       "    </tr>\n",
       "  </tbody>\n",
       "</table>\n",
       "</div>"
      ],
      "text/plain": [
       "          Provider Name             Address1      Address2       City  \\\n",
       "20433  CVS Store #16937  2295 N IMPERIAL AVE  CVS Pharmacy  El Centro   \n",
       "\n",
       "         County State Code    Zip National Drug Code              Order Label  \\\n",
       "20433  Imperial         CA  92243      00006-5055-06  Lagevrio (molnupiravir)   \n",
       "\n",
       "       Courses Available             Geocoded Address           NPI  \\\n",
       "20433               24.0  POINT (-115.56988 32.81846)  1.366465e+09   \n",
       "\n",
       "             Last Report Date Provider Status Provider Note  \n",
       "20433  04/19/2022 12:00:00 AM          ACTIVE           NaN  "
      ]
     },
     "execution_count": 4,
     "metadata": {},
     "output_type": "execute_result"
    }
   ],
   "source": [
    "df.sample()"
   ]
  },
  {
   "cell_type": "code",
   "execution_count": null,
   "id": "50505b2c",
   "metadata": {},
   "outputs": [],
   "source": [
    "## I just did this to make sure it was working"
   ]
  }
 ],
 "metadata": {
  "kernelspec": {
   "display_name": "Python 3 (ipykernel)",
   "language": "python",
   "name": "python3"
  },
  "language_info": {
   "codemirror_mode": {
    "name": "ipython",
    "version": 3
   },
   "file_extension": ".py",
   "mimetype": "text/x-python",
   "name": "python",
   "nbconvert_exporter": "python",
   "pygments_lexer": "ipython3",
   "version": "3.9.7"
  }
 },
 "nbformat": 4,
 "nbformat_minor": 5
}
